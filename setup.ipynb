{
 "cells": [
  {
   "cell_type": "markdown",
   "id": "e51cf61e-b370-47e2-bbe8-39a2512486c4",
   "metadata": {},
   "source": [
    "## Secure Applications\n",
    "\n",
    "In this notebook you will: \n",
    "\n",
    "-   Reserve resources for this experiment\n",
    "-   Configure your reserved resources\n",
    "-   Access your reserved resources over SSH\n",
    "-   Retrieve files saved on a FABRIC resources\n",
    "-   Delete your FABRIC reservation (in case you finish early)"
   ]
  },
  {
   "cell_type": "markdown",
   "id": "ea96161b-6e6b-4298-b5e0-f5e8e4c93820",
   "metadata": {},
   "source": [
    "### Exercise: Reserve resources\n",
    "\n",
    "In this exercise, we will reserve resources on FABRIC for the experiments on network layer security."
   ]
  },
  {
   "cell_type": "code",
   "execution_count": null,
   "id": "321baa74-eb9e-43b7-b2b1-1e8bb89e16cd",
   "metadata": {},
   "outputs": [],
   "source": [
    "from fabrictestbed_extensions.fablib.fablib import FablibManager as fablib_manager\n",
    "fablib = fablib_manager() \n",
    "conf = fablib.show_config()"
   ]
  },
  {
   "cell_type": "code",
   "execution_count": null,
   "id": "75ffafec-5789-4ef7-a962-018e91a19edf",
   "metadata": {},
   "outputs": [],
   "source": [
    "!chmod 600 {fablib.get_bastion_key_filename()}\n",
    "!chmod 600 {fablib.get_default_slice_private_key_file()}"
   ]
  },
  {
   "cell_type": "code",
   "execution_count": null,
   "id": "df1427e5-4730-479c-87eb-b2d892940cc9",
   "metadata": {},
   "outputs": [],
   "source": [
    "import os\n",
    "slice_name=\"network-security_\" + os.getenv('NB_USER')"
   ]
  },
  {
   "cell_type": "code",
   "execution_count": null,
   "id": "2210683a-7535-43bf-9c2e-6a02fd204b1f",
   "metadata": {},
   "outputs": [],
   "source": [
    "try:\n",
    "    slice = fablib.get_slice(slice_name)\n",
    "    print(\"You already have a slice by this name!\")\n",
    "    print(\"If you previously reserved resources, skip to the 'log in to resources' section.\")\n",
    "except:\n",
    "    print(\"You don't have a slice named %s yet.\" % slice_name)\n",
    "    print(\"Continue to the next step to make one.\")\n",
    "    slice = fablib.new_slice(name=slice_name)"
   ]
  },
  {
   "cell_type": "markdown",
   "id": "57b1ebd2-20e8-49ec-8137-d7415b533914",
   "metadata": {},
   "source": [
    "Next, we’ll select a random FABRIC site for our experiment. We’ll make sure to get one that has sufficient capacity for the experiment we’re going to run.\n",
    "\n",
    "Once we find a suitable site, we’ll print details about available resources at this site."
   ]
  },
  {
   "cell_type": "code",
   "execution_count": null,
   "id": "e716f889-f726-4dee-83a9-d37ac3c44620",
   "metadata": {},
   "outputs": [],
   "source": [
    "exp_requires = {'core': 3*2, 'nic': 4}\n",
    "while True:\n",
    "    site_name = fablib.get_random_site()\n",
    "    if ( (fablib.resources.get_core_available(site_name) > 1.2*exp_requires['core']) and\n",
    "        (fablib.resources.get_component_available(site_name, 'SharedNIC-ConnectX-6') > 1.2**exp_requires['nic']) ):\n",
    "        break\n",
    "\n",
    "fablib.show_site(site_name)"
   ]
  },
  {
   "cell_type": "code",
   "execution_count": null,
   "id": "3fea092c-5578-46d5-98e2-df56b3226aec",
   "metadata": {},
   "outputs": [],
   "source": [
    "# this cell sets up the nodes\n",
    "node_names = [\"romeo\", \"juliet\", \"server\", \"router-int\", \"router-ext\", \"vpn\"]\n",
    "for n in node_names:\n",
    "    slice.add_node(name=n, site=site_name, cores=2, ram=4, disk=10, image='default_ubuntu_22')"
   ]
  },
  {
   "cell_type": "code",
   "execution_count": null,
   "id": "42f26757-f8d1-4c80-bc45-16aa0eff7547",
   "metadata": {},
   "outputs": [],
   "source": [
    "# this cell sets up the network links\n",
    "nets = [\n",
    "    {\"name\": \"net0\",   \"nodes\": [\"romeo\", \"router-int\"]},\n",
    "    {\"name\": \"net1\",  \"nodes\": [\"server\", \"router-int\"]},\n",
    "    {\"name\": \"net2\",  \"nodes\": [\"router-int\", \"vpn\"]},\n",
    "    {\"name\": \"net3\",  \"nodes\": [\"vpn\", \"router-ext\"]},\n",
    "    {\"name\": \"net4\",  \"nodes\": [\"router-ext\", \"juliet\"]}\n",
    "]\n",
    "for n in nets:\n",
    "    ifaces = [slice.get_node(node).add_component(model=\"NIC_Basic\", name=n[\"name\"]).get_interfaces()[0] for node in n['nodes'] ]\n",
    "    slice.add_l2network(name=n[\"name\"], type='L2Bridge', interfaces=ifaces)"
   ]
  },
  {
   "cell_type": "markdown",
   "id": "e9cb45b9-d280-41e0-b6a4-5ee8f320e6dd",
   "metadata": {},
   "source": [
    "The following cell submits our request to the FABRIC site. The output of this cell will update automatically as the status of our request changes.\n",
    "\n",
    "While it is being prepared, the “State” of the slice will appear as “Configuring”.\n",
    "When it is ready, the “State” of the slice will change to “StableOK”."
   ]
  },
  {
   "cell_type": "code",
   "execution_count": null,
   "id": "ea4c9269-6a34-4e74-8aac-5822dae18939",
   "metadata": {},
   "outputs": [],
   "source": [
    "slice.submit()"
   ]
  },
  {
   "cell_type": "code",
   "execution_count": null,
   "id": "e60afec7-e597-4342-94f2-a46c301d3e7a",
   "metadata": {},
   "outputs": [],
   "source": [
    "slice.wait_ssh(progress=True)"
   ]
  },
  {
   "cell_type": "markdown",
   "id": "a715ea8c-1364-4ec5-b3b8-bacc319fa628",
   "metadata": {},
   "source": [
    "### Exercise: Configure resources\n",
    "\n",
    "Next, we need to configure our resources - assign IP addresses to network interfaces, enable forwarding on the router, and install any necessary software.\n",
    "\n",
    "First, we’ll configure IP addresses and add the IP addresses and hostnames to the host files:"
   ]
  },
  {
   "cell_type": "code",
   "execution_count": null,
   "id": "1c0841df-a1b5-4eff-8bd4-172ee2d594a6",
   "metadata": {},
   "outputs": [],
   "source": [
    "from ipaddress import ip_address, IPv4Address, IPv4Network\n",
    "\n",
    "if_conf = {\n",
    "    \"romeo-net0-p1\":       {\"addr\": \"10.10.1.100\", \"subnet\": \"10.10.1.0/24\", \"hostname\": \"romeo\"},\n",
    "    \"router-int-net0-p1\":  {\"addr\": \"10.10.1.1\", \"subnet\": \"10.10.1.0/24\", \"hostname\": \"router-int\"},\n",
    "    \"router-int-net1-p1\":  {\"addr\": \"10.10.2.1\", \"subnet\": \"10.10.2.0/24\", \"hostname\": \"router-int\"},\n",
    "    \"server-net1-p1\":      {\"addr\": \"10.10.2.100\", \"subnet\": \"10.10.2.0/24\", \"hostname\": \"server\"},\n",
    "    \"router-int-net2-p1\":  {\"addr\": \"10.10.3.1\", \"subnet\": \"10.10.3.0/24\", \"hostname\": \"router-int\"},\n",
    "    \"vpn-net2-p1\":         {\"addr\": \"10.10.3.100\", \"subnet\": \"10.10.3.0/24\", \"hostname\": \"vpn\"},\n",
    "    \"vpn-net3-p1\":         {\"addr\": \"10.10.4.100\", \"subnet\": \"10.10.4.0/24\", \"hostname\": \"vpn\"},\n",
    "    \"router-ext-net3-p1\":  {\"addr\": \"10.10.4.1\", \"subnet\": \"10.10.4.0/24\", \"hostname\": \"router-ext\"},\n",
    "    \"router-ext-net4-p1\":  {\"addr\": \"10.10.5.1\", \"subnet\": \"10.10.5.0/24\", \"hostname\": \"router-ext\"},\n",
    "    \"juliet-net4-p1\":      {\"addr\": \"10.10.5.100\", \"subnet\": \"10.10.5.0/24\", \"hostname\": \"juliet\"}\n",
    "}\n",
    "\n",
    "for iface in slice.get_interfaces():\n",
    "    if_name = iface.get_name()\n",
    "    iface.ip_addr_add(addr=if_conf[if_name]['addr'], subnet=IPv4Network(if_conf[if_name]['subnet']))\n",
    "\n",
    "\n",
    "command = \"\"\n",
    "for if_name in if_conf:\n",
    "    command = command + f\"echo '{if_conf[if_name]['addr']}\\t{if_conf[if_name]['hostname']}' | sudo tee -a /etc/hosts > /dev/null; \"\n",
    "for node in node_names:\n",
    "    slice.get_node(name=node).execute(command)"
   ]
  },
  {
   "cell_type": "markdown",
   "id": "8969f326-d71f-4e68-b216-da6439d54edf",
   "metadata": {},
   "source": [
    "Let’s make sure that all of the network interfaces are brought up:"
   ]
  },
  {
   "cell_type": "code",
   "execution_count": null,
   "id": "84c5f8ea-1b43-470d-890d-b4010a84cd43",
   "metadata": {},
   "outputs": [],
   "source": [
    "for iface in slice.get_interfaces():\n",
    "    iface.ip_link_up()"
   ]
  },
  {
   "cell_type": "markdown",
   "id": "fb0f743a-232e-4103-8cf5-f2494cdef151",
   "metadata": {},
   "source": [
    "Then, we’ll add routes on hosts so that hosts know how to reach each other."
   ]
  },
  {
   "cell_type": "code",
   "execution_count": null,
   "id": "74a7819f-fb59-48c1-8e5e-82bf9ad70342",
   "metadata": {},
   "outputs": [],
   "source": [
    "rt_conf = [\n",
    "    {\"name\": \"romeo\", \"addr\": \"10.0.0.0/8\", \"gw\": \"10.10.1.1\"},\n",
    "    {\"name\": \"server\", \"addr\": \"10.0.0.0/8\", \"gw\": \"10.10.2.1\"},\n",
    "    {\"name\": \"router-int\", \"addr\": \"10.0.0.0/8\", \"gw\": \"10.10.3.100\"},\n",
    "    {\"name\": \"vpn\", \"addr\": \"10.0.0.0/8\", \"gw\": \"10.10.3.1\"},\n",
    "    {\"name\": \"vpn\", \"addr\": \"10.10.4.0/22\", \"gw\": \"10.10.4.1\"},\n",
    "    {\"name\": \"router-ext\", \"addr\": \"10.0.0.0/8\", \"gw\": \"10.10.4.100\"},\n",
    "    {\"name\": \"juliet\", \"addr\": \"10.0.0.0/8\", \"gw\": \"10.10.5.1\"}\n",
    "]\n",
    "for rt in rt_conf:\n",
    "    slice.get_node(name=rt['name']).ip_route_add(subnet=IPv4Network(rt['addr']), gateway=rt['gw'])\n"
   ]
  },
  {
   "cell_type": "markdown",
   "id": "7eb7aedd-8cd4-4a83-8a59-8331bd61be72",
   "metadata": {},
   "source": [
    "Finally, we’ll install some software on nodes."
   ]
  },
  {
   "cell_type": "code",
   "execution_count": null,
   "id": "0ad38a07-ac72-4e3f-8ae1-5d4aa0bd0444",
   "metadata": {},
   "outputs": [],
   "source": [
    "for n in ['vpn', 'juliet']:\n",
    "    slice.get_node(name=n).execute(\"sudo apt update; sudo apt -y install openvpn\", quiet=True)\n",
    "for n in ['juliet', 'server', 'router-int', 'router-ext']:\n",
    "    slice.get_node(name=n).execute(\"sudo apt update; sudo apt -y install net-tools\", quiet=True)"
   ]
  },
  {
   "cell_type": "markdown",
   "id": "d2e46fff-7a40-42d2-b1d6-6e9e48116036",
   "metadata": {},
   "source": [
    "### Exercise: Network Topology\n",
    "Now, we can use the following code to draw the topology of this network."
   ]
  },
  {
   "cell_type": "code",
   "execution_count": null,
   "id": "661c4f29-2736-428b-8b57-faa0b7d80b77",
   "metadata": {},
   "outputs": [],
   "source": [
    "l2_nets = [(n.get_name(), {'color': 'lavender'}) for n in slice.get_l2networks() ]\n",
    "l3_nets = [(n.get_name(), {'color': 'pink'}) for n in slice.get_l3networks() ]\n",
    "hosts   =   [(n.get_name(), {'color': 'lightblue'}) for n in slice.get_nodes()]\n",
    "nodes = l2_nets + l3_nets + hosts\n",
    "edges = [(iface.get_network().get_name(), iface.get_node().get_name()) for iface in slice.get_interfaces()]"
   ]
  },
  {
   "cell_type": "code",
   "execution_count": null,
   "id": "a39ec743-03f5-4537-869a-3bb791823004",
   "metadata": {},
   "outputs": [],
   "source": [
    "import networkx as nx\n",
    "import matplotlib.pyplot as plt\n",
    "\n",
    "G = nx.Graph()\n",
    "G.add_nodes_from(nodes)\n",
    "G.add_edges_from(edges)\n",
    "plt.figure(figsize=(12,12)) # or some other size \n",
    "nx.draw(G, node_size=2000, node_shape='s', node_color=[n[1]['color'] for n in nodes], with_labels=True)"
   ]
  },
  {
   "cell_type": "markdown",
   "id": "0f6dc7ac-88ac-430c-bcb0-6905af1d72a5",
   "metadata": {},
   "source": [
    "### Exercise: Log in to resources\n",
    "Now, we are finally ready to log in to our resources over SSH! Run the following cells, and observe the table output - you will see an SSH command for each of the nodes in your topology."
   ]
  },
  {
   "cell_type": "code",
   "execution_count": null,
   "id": "c580aa09-959f-4199-abc9-72e8a9f63f27",
   "metadata": {},
   "outputs": [],
   "source": [
    "import pandas as pd\n",
    "pd.set_option('display.max_colwidth', None)\n",
    "ssh_str = 'ssh -i ' + slice.get_slice_private_key_file() + \\\n",
    "    ' -J ' + fablib.get_bastion_username() + '@' + fablib.get_bastion_public_addr() + \\\n",
    "    ' -F /home/fabric/work/fabric_config/ssh_config '\n",
    "slice_info = [{'Name': n.get_name(), 'SSH command': ssh_str + n.get_username() + '@' + str(n.get_management_ip())} for n in slice.get_nodes()]\n",
    "pd.DataFrame(slice_info).set_index('Name')"
   ]
  },
  {
   "cell_type": "markdown",
   "id": "d1337ef1-ab17-4acf-b3ae-2d9be942d1cd",
   "metadata": {},
   "source": [
    "Now, you can open an SSH session on any of the nodes as follows:\n",
    "\n",
    "-   In Jupyter, from the menu bar, use File \\> New \\> Terminal to open a new terminal.\n",
    "-   Copy an SSH command from the table, and paste it into the terminal. (Note that each SSH command is a single line, even if the display wraps the text to a second line! When you copy and paste it, paste it all together.)"
   ]
  },
  {
   "cell_type": "markdown",
   "id": "206884ec-f7db-44af-8b28-6b423670d1bd",
   "metadata": {},
   "source": [
    "You can repeat this process (open several terminals) to start a session on each host and the router. Each terminal session will have a tab in the Jupyter environment, so that you can easily switch between them.\n",
    "\n",
    "Now you can continue to perform the Network Layer Security experiments on these host sessions."
   ]
  },
  {
   "cell_type": "markdown",
   "id": "edcb404f-4af1-4986-b618-c406e16e31e9",
   "metadata": {},
   "source": [
    "### Exercise: Transfer .pcap files from a FABRIC host\n"
   ]
  },
  {
   "cell_type": "markdown",
   "id": "ca32c4ce-873d-44bc-9a34-cd410571f566",
   "metadata": {},
   "source": [
    "Now, retrieve the `vpn-router-int.pcap` and `vpn-router-ext.pcap` files from router-int and router-ext using the following commands:"
   ]
  },
  {
   "cell_type": "code",
   "execution_count": null,
   "id": "37ff357f-90aa-4fc6-8246-3f1a3debd8cd",
   "metadata": {},
   "outputs": [],
   "source": [
    "host_name = \"router-int\"\n",
    "slice.get_node(host_name).download_file(\"/home/fabric/work/vpn-%s.pcap\" % host_name, \"/home/ubuntu/vpn-%s.pcap\" % host_name)"
   ]
  },
  {
   "cell_type": "code",
   "execution_count": null,
   "id": "e91f8567-dcf7-424e-ab30-28264d82a721",
   "metadata": {},
   "outputs": [],
   "source": [
    "host_name = \"router-ext\"\n",
    "slice.get_node(host_name).download_file(\"/home/fabric/work/vpn-%s.pcap\" % host_name, \"/home/ubuntu/vpn-%s.pcap\" % host_name)"
   ]
  },
  {
   "cell_type": "markdown",
   "id": "30666854-f36e-41a5-a6f4-9039983b12e6",
   "metadata": {},
   "source": [
    "Then in the Jupyter environment, click on the folder icon in the file browser on the left to make sure that you are located in your “Jupyter home” directory.\n",
    "\n",
    "Then, you should see the above .pcap files appear in the Jupyter file browser on the left. You can now download this file from the Jupyter environment to your own laptop to analyze them in Wireshark."
   ]
  },
  {
   "cell_type": "markdown",
   "id": "2c61d513-0696-496c-92ee-126c4ca535bc",
   "metadata": {},
   "source": [
    "### Delete your slice resources\n",
    "\n",
    "If you finished your experiment early, you should delete your slice! The following cell deletes all the resources in your slice, freeing them for other experimenters."
   ]
  },
  {
   "cell_type": "code",
   "execution_count": null,
   "id": "00242d58-fef6-4b00-a01e-f588a64c61b1",
   "metadata": {},
   "outputs": [],
   "source": [
    "slice.delete()"
   ]
  },
  {
   "cell_type": "code",
   "execution_count": null,
   "id": "bfbb0afb-1c67-478c-90b7-cdf48c69b0dd",
   "metadata": {},
   "outputs": [],
   "source": [
    "slice.show()"
   ]
  }
 ],
 "metadata": {
  "kernelspec": {
   "display_name": "Python 3 (ipykernel)",
   "language": "python",
   "name": "python3"
  },
  "language_info": {
   "codemirror_mode": {
    "name": "ipython",
    "version": 3
   },
   "file_extension": ".py",
   "mimetype": "text/x-python",
   "name": "python",
   "nbconvert_exporter": "python",
   "pygments_lexer": "ipython3",
   "version": "3.9.7"
  }
 },
 "nbformat": 4,
 "nbformat_minor": 5
}
